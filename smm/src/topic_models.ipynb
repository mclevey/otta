{
 "cells": [
  {
   "cell_type": "code",
   "execution_count": 4,
   "metadata": {},
   "outputs": [],
   "source": [
    "import dill\n",
    "import pandas as pd\n",
    "import otta_functions as of\n",
    "from pprint import pprint\n",
    "from corextopic import corextopic as ct\n",
    "from corextopic import vis_topic as vt\n",
    "import spacy\n",
    "nlp = spacy.load('en_core_web_sm')"
   ]
  },
  {
   "cell_type": "code",
   "execution_count": 5,
   "metadata": {},
   "outputs": [],
   "source": [
    "with open('../data/inter/sl_text', 'rb') as dillfile:\n",
    "    sl_text = dill.load(dillfile)\n",
    "\n",
    "with open('../data/inter/il_text', 'rb') as dillfile:\n",
    "    il_text = dill.load(dillfile)\n",
    "\n",
    "with open('../data/inter/dk_text', 'rb') as dillfile:\n",
    "    dk_text = dill.load(dillfile)\n",
    "\n",
    "with open('../data/inter/nl_text', 'rb') as dillfile:\n",
    "    nl_text = dill.load(dillfile)\n",
    "\n",
    "with open('../data/inter/no_text', 'rb') as dillfile:\n",
    "    no_text = dill.load(dillfile)"
   ]
  },
  {
   "cell_type": "code",
   "execution_count": 6,
   "metadata": {},
   "outputs": [
    {
     "name": "stdout",
     "output_type": "stream",
     "text": [
      "848 276 135 92 67\n"
     ]
    }
   ],
   "source": [
    "print(len(sl_text), len(no_text), len(nl_text), len(il_text), len(dk_text))"
   ]
  },
  {
   "cell_type": "markdown",
   "metadata": {},
   "source": [
    "* Check with Mark about quick updates to this dataset -- work for Yixi or Elahe?"
   ]
  },
  {
   "cell_type": "code",
   "execution_count": null,
   "metadata": {},
   "outputs": [],
   "source": []
  }
 ],
 "metadata": {
  "kernelspec": {
   "display_name": "Python 3",
   "language": "python",
   "name": "python3"
  },
  "language_info": {
   "codemirror_mode": {
    "name": "ipython",
    "version": 3
   },
   "file_extension": ".py",
   "mimetype": "text/x-python",
   "name": "python",
   "nbconvert_exporter": "python",
   "pygments_lexer": "ipython3",
   "version": "3.6.9"
  }
 },
 "nbformat": 4,
 "nbformat_minor": 2
}
