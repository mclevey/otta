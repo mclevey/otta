{
  "cells": [
    {
      "cell_type": "code",
      "source": [
        "import dill\n",
        "import pandas as pd\n",
        "import otta_functions as of\n",
        "from corextopic import corextopic as ct\n",
        "from corextopic import vis_topic as vt\n",
        "import spacy\n",
        "nlp = spacy.load('en_core_web_sm')\n",
        "from pprint import pprint\n",
        "import yaml"
      ],
      "outputs": [],
      "execution_count": 34,
      "metadata": {
        "execution": {
          "iopub.status.busy": "2020-04-07T16:27:11.444Z",
          "iopub.execute_input": "2020-04-07T16:27:11.449Z",
          "iopub.status.idle": "2020-04-07T16:27:12.309Z",
          "shell.execute_reply": "2020-04-07T16:27:12.329Z"
        }
      }
    },
    {
      "cell_type": "markdown",
      "source": [
        "# Load Preprocessed Data"
      ],
      "metadata": {
        "nteract": {
          "transient": {
            "deleting": false
          }
        }
      }
    },
    {
      "cell_type": "code",
      "source": [
        "with open('../data/inter/sl_text', 'rb') as dillfile:\n",
        "    sl_text = dill.load(dillfile)\n",
        "\n",
        "with open('../data/inter/il_text', 'rb') as dillfile:\n",
        "    il_text = dill.load(dillfile)\n",
        "\n",
        "with open('../data/inter/dk_text', 'rb') as dillfile:\n",
        "    dk_text = dill.load(dillfile)\n",
        "\n",
        "with open('../data/inter/nl_text', 'rb') as dillfile:\n",
        "    nl_text = dill.load(dillfile)\n",
        "\n",
        "with open('../data/inter/no_text', 'rb') as dillfile:\n",
        "    no_text = dill.load(dillfile)"
      ],
      "outputs": [],
      "execution_count": 35,
      "metadata": {
        "execution": {
          "iopub.status.busy": "2020-04-07T16:27:12.318Z",
          "iopub.execute_input": "2020-04-07T16:27:12.323Z",
          "iopub.status.idle": "2020-04-07T16:27:12.365Z",
          "shell.execute_reply": "2020-04-07T16:27:12.425Z"
        }
      }
    },
    {
      "cell_type": "code",
      "source": [
        "print(len(sl_text), len(no_text), len(nl_text), len(il_text), len(dk_text))"
      ],
      "outputs": [
        {
          "output_type": "stream",
          "name": "stdout",
          "text": [
            "848 276 135 92 67\n"
          ]
        }
      ],
      "execution_count": 36,
      "metadata": {
        "execution": {
          "iopub.status.busy": "2020-04-07T16:27:12.374Z",
          "iopub.execute_input": "2020-04-07T16:27:12.378Z",
          "iopub.status.idle": "2020-04-07T16:27:12.388Z",
          "shell.execute_reply": "2020-04-07T16:27:12.427Z"
        }
      }
    },
    {
      "cell_type": "markdown",
      "source": [
        "# Load Global Anchors for Semi-Supervised CorEx Models"
      ],
      "metadata": {
        "nteract": {
          "transient": {
            "deleting": false
          }
        }
      }
    },
    {
      "cell_type": "code",
      "source": [
        "with open('anchors.yaml') as f:\n",
        "    anchors = yaml.load(f, Loader=yaml.FullLoader)\n",
        "    print(anchors)"
      ],
      "outputs": [
        {
          "output_type": "stream",
          "name": "stdout",
          "text": [
            "{'oil': ['oil', 'drilling', 'fracking', 'offshore', 'opec', 'energy', 'fossil', 'fuel'], 'renewable': ['green', 'renewable', 'energy'], 'fish': ['fish', 'fisheries', 'fishery'], 'oceans': ['ocean', 'sea', 'seabed', 'marine', 'coast', 'coastal'], 'climate_change': ['climate', 'carbon', 'emissions', 'CO2', 'COP'], 'ccew_events': ['flooding', 'storm', 'storms', 'warming', 'levels', 'rising', 'melting'], 'environment': ['environment', 'environmental', 'nature', 'landscape', 'wildlife'], 'tourism': ['tourism', 'tourist', 'culture', 'cultural'], 'ecotourism': ['hiking', 'kayaking', 'surfing', 'birdwatchers', 'birdwatching'], 'government': ['government', 'state', 'political', 'politician', 'diplomat', 'national'], 'movements': ['activist', 'movement', 'protest', 'greenpeace'], 'economy': ['economic', 'economy', 'market', 'price', 'employment', 'jobs'], 'international': ['international', 'global', 'foreign'], 'arctic': ['arctic', 'polar', 'ice'], 'science': ['science', 'scientists', 'evidence', 'research'], 'sustain': ['sustainability']}\n"
          ]
        }
      ],
      "execution_count": 37,
      "metadata": {
        "execution": {
          "iopub.status.busy": "2020-04-07T16:27:12.393Z",
          "iopub.execute_input": "2020-04-07T16:27:12.396Z",
          "iopub.status.idle": "2020-04-07T16:27:12.405Z",
          "shell.execute_reply": "2020-04-07T16:27:12.430Z"
        }
      }
    },
    {
      "cell_type": "code",
      "source": [
        "anchors['oil']"
      ],
      "outputs": [
        {
          "output_type": "execute_result",
          "execution_count": 38,
          "data": {
            "text/plain": [
              "['oil', 'drilling', 'fracking', 'offshore', 'opec', 'energy', 'fossil', 'fuel']"
            ]
          },
          "metadata": {}
        }
      ],
      "execution_count": 38,
      "metadata": {
        "collapsed": true,
        "outputExpanded": false,
        "jupyter": {
          "source_hidden": false,
          "outputs_hidden": false
        },
        "nteract": {
          "transient": {
            "deleting": false
          }
        },
        "execution": {
          "iopub.status.busy": "2020-04-07T16:27:12.410Z",
          "iopub.execute_input": "2020-04-07T16:27:12.414Z",
          "iopub.status.idle": "2020-04-07T16:27:12.422Z",
          "shell.execute_reply": "2020-04-07T16:27:12.433Z"
        }
      }
    },
    {
      "cell_type": "markdown",
      "source": [
        "The keys for each of these global anchors are:"
      ],
      "metadata": {
        "nteract": {
          "transient": {
            "deleting": false
          }
        }
      }
    },
    {
      "cell_type": "code",
      "source": [
        "for k,v in anchors.items():\n",
        "    print(k)"
      ],
      "outputs": [
        {
          "output_type": "stream",
          "name": "stdout",
          "text": [
            "oil\n",
            "renewable\n",
            "fish\n",
            "oceans\n",
            "climate_change\n",
            "ccew_events\n",
            "environment\n",
            "tourism\n",
            "ecotourism\n",
            "government\n",
            "movements\n",
            "economy\n",
            "international\n",
            "arctic\n",
            "science\n",
            "sustain\n"
          ]
        }
      ],
      "execution_count": 39,
      "metadata": {
        "collapsed": true,
        "outputExpanded": false,
        "jupyter": {
          "source_hidden": false,
          "outputs_hidden": false
        },
        "nteract": {
          "transient": {
            "deleting": false
          }
        },
        "execution": {
          "iopub.status.busy": "2020-04-07T16:27:12.660Z",
          "iopub.execute_input": "2020-04-07T16:27:12.664Z",
          "iopub.status.idle": "2020-04-07T16:27:12.673Z",
          "shell.execute_reply": "2020-04-07T16:27:12.677Z"
        }
      }
    },
    {
      "cell_type": "code",
      "source": [
        "global_anchors = [v for k,v in anchors.items()]\n",
        "pprint(global_anchors)"
      ],
      "outputs": [
        {
          "output_type": "stream",
          "name": "stdout",
          "text": [
            "[['oil',\n",
            "  'drilling',\n",
            "  'fracking',\n",
            "  'offshore',\n",
            "  'opec',\n",
            "  'energy',\n",
            "  'fossil',\n",
            "  'fuel'],\n",
            " ['green', 'renewable', 'energy'],\n",
            " ['fish', 'fisheries', 'fishery'],\n",
            " ['ocean', 'sea', 'seabed', 'marine', 'coast', 'coastal'],\n",
            " ['climate', 'carbon', 'emissions', 'CO2', 'COP'],\n",
            " ['flooding', 'storm', 'storms', 'warming', 'levels', 'rising', 'melting'],\n",
            " ['environment', 'environmental', 'nature', 'landscape', 'wildlife'],\n",
            " ['tourism', 'tourist', 'culture', 'cultural'],\n",
            " ['hiking', 'kayaking', 'surfing', 'birdwatchers', 'birdwatching'],\n",
            " ['government', 'state', 'political', 'politician', 'diplomat', 'national'],\n",
            " ['activist', 'movement', 'protest', 'greenpeace'],\n",
            " ['economic', 'economy', 'market', 'price', 'employment', 'jobs'],\n",
            " ['international', 'global', 'foreign'],\n",
            " ['arctic', 'polar', 'ice'],\n",
            " ['science', 'scientists', 'evidence', 'research'],\n",
            " ['sustainability']]\n"
          ]
        }
      ],
      "execution_count": 40,
      "metadata": {
        "collapsed": true,
        "outputExpanded": false,
        "jupyter": {
          "source_hidden": false,
          "outputs_hidden": false
        },
        "nteract": {
          "transient": {
            "deleting": false
          }
        },
        "execution": {
          "iopub.status.busy": "2020-04-07T16:27:12.976Z",
          "iopub.execute_input": "2020-04-07T16:27:12.982Z",
          "iopub.status.idle": "2020-04-07T16:27:12.991Z",
          "shell.execute_reply": "2020-04-07T16:27:13.003Z"
        }
      }
    },
    {
      "cell_type": "markdown",
      "source": [
        "# Scotland Anchors"
      ],
      "metadata": {
        "nteract": {
          "transient": {
            "deleting": false
          }
        }
      }
    },
    {
      "cell_type": "code",
      "source": [
        "with open('anchors_scotland.yaml') as f:\n",
        "    anchors_scotland = yaml.load(f, Loader=yaml.FullLoader)\n",
        "    print(anchors_scotland)\n",
        "    \n",
        "anchors_scotland = [v for k,v in anchors_scotland.items()]\n",
        "pprint(anchors_scotland)"
      ],
      "outputs": [
        {
          "output_type": "stream",
          "name": "stdout",
          "text": [
            "{'independence': ['independence', 'independent', 'referendum'], 'currency': ['pound', 'stirling', 'euro']}\n",
            "[['independence', 'independent', 'referendum'], ['pound', 'stirling', 'euro']]\n"
          ]
        }
      ],
      "execution_count": 33,
      "metadata": {
        "collapsed": true,
        "outputExpanded": false,
        "jupyter": {
          "source_hidden": false,
          "outputs_hidden": false
        },
        "nteract": {
          "transient": {
            "deleting": false
          }
        },
        "execution": {
          "iopub.status.busy": "2020-04-07T16:27:07.260Z",
          "iopub.execute_input": "2020-04-07T16:27:07.263Z",
          "iopub.status.idle": "2020-04-07T16:27:07.272Z",
          "shell.execute_reply": "2020-04-07T16:27:07.276Z"
        }
      }
    },
    {
      "cell_type": "code",
      "source": [
        "scotland_anchors = global_anchors.extend(anchors_scotland)\n",
        "scotland_anchors"
      ],
      "outputs": [],
      "execution_count": 27,
      "metadata": {
        "collapsed": true,
        "outputExpanded": false,
        "jupyter": {
          "source_hidden": false,
          "outputs_hidden": false
        },
        "nteract": {
          "transient": {
            "deleting": false
          }
        },
        "execution": {
          "iopub.status.busy": "2020-04-07T16:26:44.272Z",
          "iopub.execute_input": "2020-04-07T16:26:44.277Z",
          "iopub.status.idle": "2020-04-07T16:26:44.284Z",
          "shell.execute_reply": "2020-04-07T16:26:44.291Z"
        }
      }
    },
    {
      "cell_type": "code",
      "source": [
        "len(scotland_anchors)"
      ],
      "outputs": [
        {
          "output_type": "error",
          "ename": "TypeError",
          "evalue": "object of type 'NoneType' has no len()",
          "traceback": [
            "\u001b[0;31m---------------------------------------------------------------------------\u001b[0m",
            "\u001b[0;31mTypeError\u001b[0m                                 Traceback (most recent call last)",
            "\u001b[0;32m<ipython-input-31-0e15cb7ecac8>\u001b[0m in \u001b[0;36m<module>\u001b[0;34m\u001b[0m\n\u001b[0;32m----> 1\u001b[0;31m \u001b[0mlen\u001b[0m\u001b[0;34m(\u001b[0m\u001b[0mscotland_anchors\u001b[0m\u001b[0;34m)\u001b[0m\u001b[0;34m\u001b[0m\u001b[0;34m\u001b[0m\u001b[0m\n\u001b[0m",
            "\u001b[0;31mTypeError\u001b[0m: object of type 'NoneType' has no len()"
          ]
        }
      ],
      "execution_count": 31,
      "metadata": {
        "collapsed": true,
        "outputExpanded": false,
        "jupyter": {
          "source_hidden": false,
          "outputs_hidden": false
        },
        "nteract": {
          "transient": {
            "deleting": false
          }
        },
        "execution": {
          "iopub.status.busy": "2020-04-07T16:26:59.163Z",
          "iopub.execute_input": "2020-04-07T16:26:59.168Z",
          "iopub.status.idle": "2020-04-07T16:26:59.188Z",
          "shell.execute_reply": "2020-04-07T16:26:59.205Z"
        }
      }
    },
    {
      "cell_type": "code",
      "source": [
        "scotland_anchors = [oil_gas, oceans, fish, env, cc, tourism, government, economy, international, science, renewable, arctic, movements, sust]\n",
        "scotland_anchors.extend(sl_ca)\n",
        "pprint(scotland_anchors)"
      ],
      "outputs": [],
      "execution_count": null,
      "metadata": {
        "collapsed": true,
        "outputExpanded": false,
        "jupyter": {
          "source_hidden": false,
          "outputs_hidden": false
        },
        "nteract": {
          "transient": {
            "deleting": false
          }
        }
      }
    },
    {
      "cell_type": "code",
      "source": [],
      "outputs": [],
      "execution_count": null,
      "metadata": {
        "collapsed": true,
        "outputExpanded": false,
        "jupyter": {
          "source_hidden": false,
          "outputs_hidden": false
        },
        "nteract": {
          "transient": {
            "deleting": false
          }
        }
      }
    },
    {
      "cell_type": "code",
      "source": [],
      "outputs": [],
      "execution_count": null,
      "metadata": {
        "collapsed": true,
        "outputExpanded": false,
        "jupyter": {
          "source_hidden": false,
          "outputs_hidden": false
        },
        "nteract": {
          "transient": {
            "deleting": false
          }
        }
      }
    },
    {
      "cell_type": "code",
      "source": [],
      "outputs": [],
      "execution_count": null,
      "metadata": {
        "collapsed": true,
        "outputExpanded": false,
        "jupyter": {
          "source_hidden": false,
          "outputs_hidden": false
        },
        "nteract": {
          "transient": {
            "deleting": false
          }
        }
      }
    },
    {
      "cell_type": "code",
      "source": [],
      "outputs": [],
      "execution_count": null,
      "metadata": {
        "collapsed": true,
        "outputExpanded": false,
        "jupyter": {
          "source_hidden": false,
          "outputs_hidden": false
        },
        "nteract": {
          "transient": {
            "deleting": false
          }
        }
      }
    },
    {
      "cell_type": "code",
      "source": [],
      "outputs": [
        {
          "output_type": "stream",
          "name": "stdout",
          "text": [
            "[['independence', 'independent', 'referendum'], ['pound', 'stirling', 'euro']]\n"
          ]
        }
      ],
      "execution_count": 23,
      "metadata": {
        "collapsed": true,
        "outputExpanded": false,
        "jupyter": {
          "source_hidden": false,
          "outputs_hidden": false
        },
        "nteract": {
          "transient": {
            "deleting": false
          }
        },
        "execution": {
          "iopub.status.busy": "2020-04-07T16:07:59.383Z",
          "iopub.execute_input": "2020-04-07T16:07:59.385Z",
          "iopub.status.idle": "2020-04-07T16:07:59.391Z",
          "shell.execute_reply": "2020-04-07T16:07:59.394Z"
        }
      }
    },
    {
      "cell_type": "code",
      "source": [],
      "outputs": [],
      "execution_count": null,
      "metadata": {
        "collapsed": true,
        "outputExpanded": false,
        "jupyter": {
          "source_hidden": false,
          "outputs_hidden": false
        },
        "nteract": {
          "transient": {
            "deleting": false
          }
        }
      }
    },
    {
      "cell_type": "code",
      "source": [],
      "outputs": [],
      "execution_count": null,
      "metadata": {
        "collapsed": true,
        "outputExpanded": false,
        "jupyter": {
          "source_hidden": false,
          "outputs_hidden": false
        },
        "nteract": {
          "transient": {
            "deleting": false
          }
        }
      }
    }
  ],
  "metadata": {
    "kernelspec": {
      "display_name": "Python 3",
      "language": "python",
      "name": "python3"
    },
    "language_info": {
      "name": "python",
      "version": "3.7.4",
      "mimetype": "text/x-python",
      "codemirror_mode": {
        "name": "ipython",
        "version": 3
      },
      "pygments_lexer": "ipython3",
      "nbconvert_exporter": "python",
      "file_extension": ".py"
    },
    "nteract": {
      "version": "0.22.4"
    }
  },
  "nbformat": 4,
  "nbformat_minor": 2
}